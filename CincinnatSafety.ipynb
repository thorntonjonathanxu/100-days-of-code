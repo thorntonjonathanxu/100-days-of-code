{
 "cells": [
  {
   "cell_type": "markdown",
   "metadata": {},
   "source": [
    "# Open Data Cincinnati Safety Project\n",
    "\n",
    "* Export data from Open Data Cincinnati Safety Project around Traffic Crashes\n",
    "* Establish connection from API\n",
    "* Build out Map using visualization tools for \n",
    "\n",
    "## Source of Information\n",
    "https://data.cincinnati-oh.gov/safety/Traffic-Crash-Reports-CPD-/rvmt-pkmq\n"
   ]
  },
  {
   "cell_type": "code",
   "execution_count": 1,
   "metadata": {},
   "outputs": [],
   "source": [
    "import requests\n",
    "import pandas as pd\n",
    "\n",
    "url = r'https://data.cincinnati-oh.gov/resource/rvmt-pkmq.json'\n",
    "r = requests.get(url)\n",
    "\n",
    "df = pd.read_json(r.content)"
   ]
  },
  {
   "cell_type": "code",
   "execution_count": 2,
   "metadata": {},
   "outputs": [
    {
     "data": {
      "text/html": [
       "<div>\n",
       "<style scoped>\n",
       "    .dataframe tbody tr th:only-of-type {\n",
       "        vertical-align: middle;\n",
       "    }\n",
       "\n",
       "    .dataframe tbody tr th {\n",
       "        vertical-align: top;\n",
       "    }\n",
       "\n",
       "    .dataframe thead th {\n",
       "        text-align: right;\n",
       "    }\n",
       "</style>\n",
       "<table border=\"1\" class=\"dataframe\">\n",
       "  <thead>\n",
       "    <tr style=\"text-align: right;\">\n",
       "      <th></th>\n",
       "      <th>address_x</th>\n",
       "      <th>latitude_x</th>\n",
       "      <th>longitude_x</th>\n",
       "      <th>age</th>\n",
       "      <th>community_council_neighborhood</th>\n",
       "      <th>cpd_neighborhood</th>\n",
       "      <th>sna_neighborhood</th>\n",
       "      <th>crashdate</th>\n",
       "      <th>crashseverity</th>\n",
       "      <th>crashseverityid</th>\n",
       "      <th>...</th>\n",
       "      <th>mannerofcrash</th>\n",
       "      <th>roadconditionsprimary</th>\n",
       "      <th>roadcontour</th>\n",
       "      <th>roadsurface</th>\n",
       "      <th>unittype</th>\n",
       "      <th>typeofperson</th>\n",
       "      <th>weather</th>\n",
       "      <th>zip</th>\n",
       "      <th>roadclass</th>\n",
       "      <th>roadclassdesc</th>\n",
       "    </tr>\n",
       "  </thead>\n",
       "  <tbody>\n",
       "    <tr>\n",
       "      <th>0</th>\n",
       "      <td>1XX W MITCHELL AV</td>\n",
       "      <td>39.161473</td>\n",
       "      <td>-84.508638</td>\n",
       "      <td>55.0</td>\n",
       "      <td>CLIFTON</td>\n",
       "      <td>CLIFTON</td>\n",
       "      <td>CLIFTON</td>\n",
       "      <td>2022-03-13T17:08:00.000</td>\n",
       "      <td>5 - PROPERTY DAMAGE ONLY</td>\n",
       "      <td>201905</td>\n",
       "      <td>...</td>\n",
       "      <td>2 - REAR-END</td>\n",
       "      <td>01 - DRY</td>\n",
       "      <td>1 - STRAIGHT LEVEL</td>\n",
       "      <td>2 - BLACKTOP, BITUMINOUS, ASPHALT</td>\n",
       "      <td>01 - PASSENGER CAR</td>\n",
       "      <td>D - DRIVER</td>\n",
       "      <td>1 - CLEAR</td>\n",
       "      <td>45217.0</td>\n",
       "      <td>NaN</td>\n",
       "      <td>NaN</td>\n",
       "    </tr>\n",
       "  </tbody>\n",
       "</table>\n",
       "<p>1 rows × 27 columns</p>\n",
       "</div>"
      ],
      "text/plain": [
       "           address_x  latitude_x  longitude_x   age  \\\n",
       "0  1XX W MITCHELL AV   39.161473   -84.508638  55.0   \n",
       "\n",
       "  community_council_neighborhood cpd_neighborhood sna_neighborhood  \\\n",
       "0                        CLIFTON          CLIFTON          CLIFTON   \n",
       "\n",
       "                 crashdate             crashseverity  crashseverityid  ...  \\\n",
       "0  2022-03-13T17:08:00.000  5 - PROPERTY DAMAGE ONLY           201905  ...   \n",
       "\n",
       "  mannerofcrash roadconditionsprimary         roadcontour  \\\n",
       "0  2 - REAR-END              01 - DRY  1 - STRAIGHT LEVEL   \n",
       "\n",
       "                         roadsurface            unittype typeofperson  \\\n",
       "0  2 - BLACKTOP, BITUMINOUS, ASPHALT  01 - PASSENGER CAR   D - DRIVER   \n",
       "\n",
       "     weather      zip roadclass roadclassdesc  \n",
       "0  1 - CLEAR  45217.0       NaN           NaN  \n",
       "\n",
       "[1 rows x 27 columns]"
      ]
     },
     "execution_count": 2,
     "metadata": {},
     "output_type": "execute_result"
    }
   ],
   "source": [
    "df.head(1)"
   ]
  },
  {
   "cell_type": "code",
   "execution_count": 3,
   "metadata": {},
   "outputs": [],
   "source": [
    " %matplotlib inline"
   ]
  },
  {
   "cell_type": "code",
   "execution_count": 4,
   "metadata": {},
   "outputs": [
    {
     "name": "stdout",
     "output_type": "stream",
     "text": [
      "50\n",
      "48\n",
      "55\n"
     ]
    },
    {
     "data": {
      "text/plain": [
       "address_x                         [1XX W MITCHELL AV, 46XX KIRBY AV, 7XX WILLIAM...\n",
       "latitude_x                        [39.161473, 39.161163, 39.173191, 39.12772, 39...\n",
       "longitude_x                       [-84.508638, -84.507878, -84.547381, -84.48835...\n",
       "age                               [55.0, nan, 37.0, 32.0, 25.0, 33.0, 41.0, 36.0...\n",
       "community_council_neighborhood    [CLIFTON, NORTHSIDE, WALNUT HILLS, OTR, WEST P...\n",
       "cpd_neighborhood                  [CLIFTON, NORTHSIDE, WALNUT HILLS, OVER-THE-RH...\n",
       "sna_neighborhood                  [CLIFTON, NORTHSIDE, WALNUT HILLS, OVER-THE-RH...\n",
       "crashdate                         [2022-03-13T17:08:00.000, 2022-03-13T00:30:00....\n",
       "crashseverity                     [5 - PROPERTY DAMAGE ONLY, 3 - MINOR INJURY SU...\n",
       "crashseverityid                            [201905, 201903, 201902, 201904, 201901]\n",
       "datecrashreported                 [2022-03-13T19:17:39.000, 2022-03-13T19:15:00....\n",
       "dayofweek                                       [SUN, FRI, SAT, WED, TUE, MON, THU]\n",
       "gender                                                  [M - MALE, nan, F - FEMALE]\n",
       "injuries                          [5 - NO APPARENTY INJURY, 3 - SUSPECTED MINOR ...\n",
       "instanceid                        [61B67B3B-F3F0-46CB-9C00-26E24724DE7E, 3A38A53...\n",
       "lightconditionsprimary            [1 - DAYLIGHT, 3 - DARK - LIGHTED ROADWAY, 2 -...\n",
       "localreportno                     [225003173, 225003174, 225003176, 225003180, 2...\n",
       "mannerofcrash                     [2 - REAR-END, 7 - SIDESWIPE, SAME DIRECTION, ...\n",
       "roadconditionsprimary             [01 - DRY, 09 - UNKNOWN, 02 - WET, 03 - SNOW, ...\n",
       "roadcontour                       [1 - STRAIGHT LEVEL, 2 - STRAIGHT GRADE, 4 - C...\n",
       "roadsurface                       [2 - BLACKTOP, BITUMINOUS, ASPHALT, 1 - CONCRE...\n",
       "unittype                          [01 - PASSENGER CAR, 02 - PASSENGER VAN (MINIV...\n",
       "typeofperson                        [D - DRIVER, O - OCCUPANT, nan, P - PEDESTRIAN]\n",
       "weather                           [1 - CLEAR, 2 - CLOUDY, 99 - OTHER/UNKNOWN, 6 ...\n",
       "zip                               [45217.0, 45223.0, 45206.0, 45202.0, 45205.0, ...\n",
       "roadclass                             [nan, 3.0, 4.0, 2.0, 1.0, 6.0, 5.0, 0.0, 7.0]\n",
       "roadclassdesc                     [nan, Minor Arterial Roads, Collector Roads, M...\n",
       "dtype: object"
      ]
     },
     "execution_count": 4,
     "metadata": {},
     "output_type": "execute_result"
    }
   ],
   "source": [
    "#Identify number of neighborhoods that are related to the content\n",
    "print(df.cpd_neighborhood.nunique())\n",
    "print(df.sna_neighborhood.nunique())\n",
    "print(df.community_council_neighborhood.nunique())\n",
    "pd.Series({c: df[c].unique() for c in df})\n"
   ]
  },
  {
   "cell_type": "code",
   "execution_count": 6,
   "metadata": {},
   "outputs": [
    {
     "data": {
      "text/plain": [
       "<AxesSubplot:>"
      ]
     },
     "execution_count": 6,
     "metadata": {},
     "output_type": "execute_result"
    },
    {
     "data": {
      "image/png": "[encoded data removed]",
      "text/plain": [
       "<Figure size 1440x576 with 1 Axes>"
      ]
     },
     "metadata": {
      "needs_background": "light"
     },
     "output_type": "display_data"
    }
   ],
   "source": [
    "# df.plot(x=\"longitude_x\", y=\"latitude_x\", kind=\"scatter\", c=\"age\", colormap=\"YlOrRd\")\n",
    "# df.info()\n",
    "import matplotlib.pyplot as plt\n",
    "\n",
    "# Categorically set age groups into smaller subsets to plot\n",
    "test = df[df['age'] > 0]\n",
    "test['gender'].value_counts().plot(kind='bar',figsize=(20,8))"
   ]
  },
  {
   "cell_type": "code",
   "execution_count": 7,
   "metadata": {},
   "outputs": [
    {
     "data": {
      "text/plain": [
       "<AxesSubplot:>"
      ]
     },
     "execution_count": 7,
     "metadata": {},
     "output_type": "execute_result"
    },
    {
     "data": {
      "image/png": "[encoded data removed]",
      "text/plain": [
       "<Figure size 1440x576 with 1 Axes>"
      ]
     },
     "metadata": {
      "needs_background": "light"
     },
     "output_type": "display_data"
    }
   ],
   "source": [
    "test['age'].value_counts().plot(kind='bar',figsize=(20,8))\n"
   ]
  }
 ],
 "metadata": {
  "interpreter": {
   "hash": "8caa3d8257df51217abe3f3d6c616091ac386792819c8553bf81ddb264746820"
  },
  "kernelspec": {
   "display_name": "Python 3.9.7 ('base')",
   "language": "python",
   "name": "python3"
  },
  "language_info": {
   "codemirror_mode": {
    "name": "ipython",
    "version": 3
   },
   "file_extension": ".py",
   "mimetype": "text/x-python",
   "name": "python",
   "nbconvert_exporter": "python",
   "pygments_lexer": "ipython3",
   "version": "3.9.7"
  },
  "orig_nbformat": 4
 },
 "nbformat": 4,
 "nbformat_minor": 2
}
